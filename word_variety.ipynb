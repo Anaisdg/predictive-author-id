{
 "cells": [
  {
   "cell_type": "code",
   "execution_count": null,
   "metadata": {
    "collapsed": true
   },
   "outputs": [],
   "source": [
    "# read in some helpful libraries\n",
    "import nltk # the natural langauage toolkit, open-source NLP\n",
    "import pandas as pd # dataframes\n",
    "import numpy as np \n",
    "import matplotlib.pyplot as plt\n",
    "plt.style.use('ggplot')\n",
    "from collections import Counter\n",
    "\n",
    "# initialize Sentiment Analyzer\n",
    "from vaderSentiment.vaderSentiment import SentimentIntensityAnalyzer\n",
    "analyzer = SentimentIntensityAnalyzer()\n",
    "\n",
    "### Read our train data into a dataframe\n",
    "texts = pd.read_csv(\"raw_data/train_full.csv\", encoding = 'latin-1')"
   ]
  },
  {
   "cell_type": "code",
   "execution_count": 3,
   "metadata": {},
   "outputs": [
    {
     "name": "stdout",
     "output_type": "stream",
     "text": [
      "7900\n",
      "5635\n",
      "6044\n"
     ]
    }
   ],
   "source": [
    "# split the data by author\n",
    "byAuthor = texts.groupby(\"author\")\n",
    "\n",
    "# how many sentences are from each author?\n",
    "for name, group in byAuthor:\n",
    "        print(len(group['text']))"
   ]
  },
  {
   "cell_type": "code",
   "execution_count": 4,
   "metadata": {
    "collapsed": true
   },
   "outputs": [],
   "source": [
    "# create df for each author\n",
    "eap = texts.loc[texts['author'] == 'EAP']\n",
    "hpl = texts.loc[texts['author'] == 'HPL']\n",
    "mws = texts.loc[texts['author'] == 'MWS']\n",
    "\n",
    "# randomly subset the larger author dfs so that each df has the same number of sentences\n",
    "eap_s = eap.sample(n=5635)\n",
    "mws_s = mws.sample(n=5635)\n",
    "\n",
    "# combine subsetted dfs into single df\n",
    "texts_s = pd.concat([eap_s, hpl, mws_s])"
   ]
  },
  {
   "cell_type": "code",
   "execution_count": 8,
   "metadata": {
    "collapsed": true
   },
   "outputs": [],
   "source": [
    "# split the data by author\n",
    "byAuthor = texts_s.groupby(\"author\")\n",
    "\n",
    "# create empty dictionary to store combined sentences for each author\n",
    "sentence_dict = {}\n",
    "\n",
    "# create empty dictionary to store tokenized sentences for each author\n",
    "token_dict = {}\n",
    "\n",
    "# for each author...\n",
    "for name, group in byAuthor:\n",
    "    # get all of the sentences they wrote and collapse them into a\n",
    "    # single long string\n",
    "    sentences = group['text'].str.cat(sep = ' ')\n",
    "    \n",
    "    # convert everything to lower case (so \"The\" and \"the\" get counted as \n",
    "    # the same word rather than two different words)\n",
    "    sentences = sentences.lower()\n",
    "    \n",
    "    sentence_dict[name] = (sentences)\n",
    "    \n",
    "    # split the text into individual tokens (words)  \n",
    "    tokens = nltk.tokenize.word_tokenize(sentences)\n",
    "    \n",
    "    token_dict[name] = (tokens)"
   ]
  },
  {
   "cell_type": "code",
   "execution_count": 9,
   "metadata": {},
   "outputs": [
    {
     "data": {
      "text/plain": [
       "{'EAP': 13323, 'HPL': 14552, 'MWS': 11253}"
      ]
     },
     "execution_count": 9,
     "metadata": {},
     "output_type": "execute_result"
    }
   ],
   "source": [
    "# create empty dictionary to store the number of unique words used by each author\n",
    "vocabulary = {}\n",
    "\n",
    "# for each author\n",
    "for key, value in token_dict.items():\n",
    "    unique_words = set(value)\n",
    "    len_unique_words = len(unique_words)\n",
    "    vocabulary[key] = (len_unique_words)\n",
    "    \n",
    "#vocabulary_df = pd.DataFrame(vocabulary)\n",
    "#vocabulary_df\n",
    "vocabulary"
   ]
  },
  {
   "cell_type": "code",
   "execution_count": 10,
   "metadata": {},
   "outputs": [
    {
     "data": {
      "image/png": "[encoded data removed]",
      "text/plain": [
       "<matplotlib.figure.Figure at 0x127ad93c9b0>"
      ]
     },
     "metadata": {},
     "output_type": "display_data"
    }
   ],
   "source": [
    "# plot\n",
    "plt.bar(np.arange(3), vocabulary.values(), color = ['red', 'green', 'purple'], alpha = 0.5)\n",
    "plt.xticks(np.arange(3), vocabulary.keys())\n",
    "plt.title(\"Vocabulary Size by Author\")\n",
    "plt.xlabel(\"Author\")\n",
    "plt.ylabel(\"Vocabulary Size\")\n",
    "plt.show()"
   ]
  },
  {
   "cell_type": "code",
   "execution_count": null,
   "metadata": {
    "collapsed": true
   },
   "outputs": [],
   "source": [
    "from scipy import stats\n",
    " \n",
    "F, p = stats.f_oneway(vocabulary['ctrl'], d_data['trt1'], d_data['trt2'])"
   ]
  }
 ],
 "metadata": {
  "kernelspec": {
   "display_name": "Python 3",
   "language": "python",
   "name": "python3"
  },
  "language_info": {
   "codemirror_mode": {
    "name": "ipython",
    "version": 3
   },
   "file_extension": ".py",
   "mimetype": "text/x-python",
   "name": "python",
   "nbconvert_exporter": "python",
   "pygments_lexer": "ipython3",
   "version": "3.6.2"
  }
 },
 "nbformat": 4,
 "nbformat_minor": 2
}
