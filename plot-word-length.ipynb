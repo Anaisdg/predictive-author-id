{
 "cells": [
  {
   "cell_type": "code",
   "execution_count": 91,
   "metadata": {
    "collapsed": true
   },
   "outputs": [],
   "source": [
    "import nltk # the natural langauage toolkit, open-source NLP\n",
    "import pandas as pd # dataframes\n",
    "import numpy as np \n",
    "import matplotlib.pyplot as plt\n",
    "plt.style.use('ggplot')"
   ]
  },
  {
   "cell_type": "code",
   "execution_count": 92,
   "metadata": {},
   "outputs": [
    {
     "data": {
      "text/html": [
       "<div>\n",
       "<style>\n",
       "    .dataframe thead tr:only-child th {\n",
       "        text-align: right;\n",
       "    }\n",
       "\n",
       "    .dataframe thead th {\n",
       "        text-align: left;\n",
       "    }\n",
       "\n",
       "    .dataframe tbody tr th {\n",
       "        vertical-align: top;\n",
       "    }\n",
       "</style>\n",
       "<table border=\"1\" class=\"dataframe\">\n",
       "  <thead>\n",
       "    <tr style=\"text-align: right;\">\n",
       "      <th></th>\n",
       "      <th>id</th>\n",
       "      <th>text</th>\n",
       "      <th>author</th>\n",
       "    </tr>\n",
       "  </thead>\n",
       "  <tbody>\n",
       "    <tr>\n",
       "      <th>0</th>\n",
       "      <td>id26305</td>\n",
       "      <td>This process, however, afforded me no means of...</td>\n",
       "      <td>EAP</td>\n",
       "    </tr>\n",
       "    <tr>\n",
       "      <th>1</th>\n",
       "      <td>id17569</td>\n",
       "      <td>It never once occurred to me that the fumbling...</td>\n",
       "      <td>HPL</td>\n",
       "    </tr>\n",
       "    <tr>\n",
       "      <th>2</th>\n",
       "      <td>id11008</td>\n",
       "      <td>In his left hand was a gold snuff box, from wh...</td>\n",
       "      <td>EAP</td>\n",
       "    </tr>\n",
       "    <tr>\n",
       "      <th>3</th>\n",
       "      <td>id27763</td>\n",
       "      <td>How lovely is spring As we looked from Windsor...</td>\n",
       "      <td>MWS</td>\n",
       "    </tr>\n",
       "    <tr>\n",
       "      <th>4</th>\n",
       "      <td>id12958</td>\n",
       "      <td>Finding nothing else, not even gold, the Super...</td>\n",
       "      <td>HPL</td>\n",
       "    </tr>\n",
       "  </tbody>\n",
       "</table>\n",
       "</div>"
      ],
      "text/plain": [
       "        id                                               text author\n",
       "0  id26305  This process, however, afforded me no means of...    EAP\n",
       "1  id17569  It never once occurred to me that the fumbling...    HPL\n",
       "2  id11008  In his left hand was a gold snuff box, from wh...    EAP\n",
       "3  id27763  How lovely is spring As we looked from Windsor...    MWS\n",
       "4  id12958  Finding nothing else, not even gold, the Super...    HPL"
      ]
     },
     "execution_count": 92,
     "metadata": {},
     "output_type": "execute_result"
    }
   ],
   "source": [
    "### Read our train data into a dataframe\n",
    "texts = pd.read_csv(\"train.csv\", encoding = 'latin-1')\n",
    "\n",
    "# look at the first few rows of texts\n",
    "texts.head()"
   ]
  },
  {
   "cell_type": "code",
   "execution_count": 93,
   "metadata": {},
   "outputs": [
    {
     "data": {
      "text/html": [
       "<div>\n",
       "<style>\n",
       "    .dataframe thead tr:only-child th {\n",
       "        text-align: right;\n",
       "    }\n",
       "\n",
       "    .dataframe thead th {\n",
       "        text-align: left;\n",
       "    }\n",
       "\n",
       "    .dataframe tbody tr th {\n",
       "        vertical-align: top;\n",
       "    }\n",
       "</style>\n",
       "<table border=\"1\" class=\"dataframe\">\n",
       "  <thead>\n",
       "    <tr style=\"text-align: right;\">\n",
       "      <th></th>\n",
       "      <th>id</th>\n",
       "      <th>text</th>\n",
       "    </tr>\n",
       "  </thead>\n",
       "  <tbody>\n",
       "    <tr>\n",
       "      <th>0</th>\n",
       "      <td>id02310</td>\n",
       "      <td>Still, as I urged our leaving Ireland with suc...</td>\n",
       "    </tr>\n",
       "    <tr>\n",
       "      <th>1</th>\n",
       "      <td>id24541</td>\n",
       "      <td>If a fire wanted fanning, it could readily be ...</td>\n",
       "    </tr>\n",
       "    <tr>\n",
       "      <th>2</th>\n",
       "      <td>id00134</td>\n",
       "      <td>And when they had broken down the frail door t...</td>\n",
       "    </tr>\n",
       "    <tr>\n",
       "      <th>3</th>\n",
       "      <td>id27757</td>\n",
       "      <td>While I was thinking how I should possibly man...</td>\n",
       "    </tr>\n",
       "    <tr>\n",
       "      <th>4</th>\n",
       "      <td>id04081</td>\n",
       "      <td>I am not sure to what limit his knowledge may ...</td>\n",
       "    </tr>\n",
       "  </tbody>\n",
       "</table>\n",
       "</div>"
      ],
      "text/plain": [
       "        id                                               text\n",
       "0  id02310  Still, as I urged our leaving Ireland with suc...\n",
       "1  id24541  If a fire wanted fanning, it could readily be ...\n",
       "2  id00134  And when they had broken down the frail door t...\n",
       "3  id27757  While I was thinking how I should possibly man...\n",
       "4  id04081  I am not sure to what limit his knowledge may ..."
      ]
     },
     "execution_count": 93,
     "metadata": {},
     "output_type": "execute_result"
    }
   ],
   "source": [
    "# read our test data into a dataframe \n",
    "test = pd.read_csv(\"test.csv\", encoding = 'latin-1')\n",
    "\n",
    "# look at the first few rows of test\n",
    "test.head()"
   ]
  },
  {
   "cell_type": "code",
   "execution_count": 94,
   "metadata": {
    "collapsed": true
   },
   "outputs": [],
   "source": [
    "# split the data by author\n",
    "byAuthor = texts.groupby(\"author\")\n",
    "\n",
    "# create empty dictionary to store combined sentences for each author\n",
    "sentence_dict = {}\n",
    "\n",
    "# create empty dictionary to store tokenized sentences for each author\n",
    "token_dict = {}\n",
    "\n",
    "# for each author...\n",
    "for name, group in byAuthor:\n",
    "    # get all of the sentences they wrote and collapse them into a\n",
    "    # single long string\n",
    "    sentences = group['text'].str.cat(sep = ' ')\n",
    "   \n",
    "    # convert everything to lower case (so \"The\" and \"the\" get counted as \n",
    "\n",
    "#the same word rather than two different words)\n",
    "    sentences = sentences.lower()\n",
    "    \n",
    "    sentence_dict[name] = (sentences)\n",
    "    \n",
    "    # split the text into individual tokens (words)  \n",
    "    tokens = nltk.tokenize.word_tokenize(sentences)\n",
    "    \n",
    "    token_dict[name] = (tokens)\n"
   ]
  },
  {
   "cell_type": "code",
   "execution_count": 95,
   "metadata": {},
   "outputs": [
    {
     "data": {
      "text/html": [
       "<div>\n",
       "<style>\n",
       "    .dataframe thead tr:only-child th {\n",
       "        text-align: right;\n",
       "    }\n",
       "\n",
       "    .dataframe thead th {\n",
       "        text-align: left;\n",
       "    }\n",
       "\n",
       "    .dataframe tbody tr th {\n",
       "        vertical-align: top;\n",
       "    }\n",
       "</style>\n",
       "<table border=\"1\" class=\"dataframe\">\n",
       "  <thead>\n",
       "    <tr style=\"text-align: right;\">\n",
       "      <th></th>\n",
       "      <th>EAP</th>\n",
       "      <th>HPL</th>\n",
       "      <th>MWS</th>\n",
       "    </tr>\n",
       "  </thead>\n",
       "  <tbody>\n",
       "    <tr>\n",
       "      <th>small (&lt;5)</th>\n",
       "      <td>4175.000000</td>\n",
       "      <td>3571.00000</td>\n",
       "      <td>3624.000000</td>\n",
       "    </tr>\n",
       "    <tr>\n",
       "      <th>med (5-9)</th>\n",
       "      <td>3360.000000</td>\n",
       "      <td>2891.00000</td>\n",
       "      <td>3009.000000</td>\n",
       "    </tr>\n",
       "    <tr>\n",
       "      <th>large (10-14)</th>\n",
       "      <td>4233.000000</td>\n",
       "      <td>3777.00000</td>\n",
       "      <td>3749.000000</td>\n",
       "    </tr>\n",
       "    <tr>\n",
       "      <th>xlarge (14+)</th>\n",
       "      <td>2874.000000</td>\n",
       "      <td>2674.00000</td>\n",
       "      <td>2703.000000</td>\n",
       "    </tr>\n",
       "    <tr>\n",
       "      <th>std</th>\n",
       "      <td>2.628756</td>\n",
       "      <td>2.55305</td>\n",
       "      <td>2.534958</td>\n",
       "    </tr>\n",
       "  </tbody>\n",
       "</table>\n",
       "</div>"
      ],
      "text/plain": [
       "                       EAP         HPL          MWS\n",
       "small (<5)     4175.000000  3571.00000  3624.000000\n",
       "med (5-9)      3360.000000  2891.00000  3009.000000\n",
       "large (10-14)  4233.000000  3777.00000  3749.000000\n",
       "xlarge (14+)   2874.000000  2674.00000  2703.000000\n",
       "std               2.628756     2.55305     2.534958"
      ]
     },
     "execution_count": 95,
     "metadata": {},
     "output_type": "execute_result"
    }
   ],
   "source": [
    "# create empty dictionary to populate with average word length by author \n",
    "wordlengthByAuthor = {}\n",
    "stdwordlengthByAuthor = {}\n",
    "\n",
    "# for each author...\n",
    "for key, value in token_dict.items():\n",
    "    \n",
    "    # characterizing words by different lengths\n",
    "    small_words = len([w for w in value if len(w) <= 5])\n",
    "    med_words = len([w for w in value if len(w) > 5 & len(w) <10])\n",
    "    large_words = len([w for w in value if len(w) > 9 & len(w) <15])\n",
    "    xlarge_words = len([w for w in value if len(w) > 14 & len(w) <15])\n",
    "    # Average Word Length for each author\n",
    "    avg_word_length = np.mean([len(w) for w in value])\n",
    "    # Std Dev of word length for each author\n",
    "    std_word_length = np.std([len(w) for w in value])\n",
    "    \n",
    "    stdwordlengthByAuthor[key] = ([small_words, med_words, large_words, xlarge_words,std_word_length])\n",
    "    wordlengthByAuthor[key] = ([small_words, med_words, large_words, xlarge_words,avg_word_length])\n",
    "    \n",
    "wordlength_df = pd.DataFrame(wordlengthByAuthor, index = ['small (<5)', 'med (5-9)', 'large (10-14)', \n",
    "                                                          'xlarge (14+)', 'avg length'])    \n",
    "std_wordlength_df = pd.DataFrame(stdwordlengthByAuthor, index = ['small (<5)', 'med (5-9)', 'large (10-14)', \n",
    "                                                          'xlarge (14+)', 'std'])\n",
    "std_wordlength_df\n"
   ]
  },
  {
   "cell_type": "code",
   "execution_count": 96,
   "metadata": {},
   "outputs": [
    {
     "data": {
      "text/html": [
       "<div>\n",
       "<style>\n",
       "    .dataframe thead tr:only-child th {\n",
       "        text-align: right;\n",
       "    }\n",
       "\n",
       "    .dataframe thead th {\n",
       "        text-align: left;\n",
       "    }\n",
       "\n",
       "    .dataframe tbody tr th {\n",
       "        vertical-align: top;\n",
       "    }\n",
       "</style>\n",
       "<table border=\"1\" class=\"dataframe\">\n",
       "  <thead>\n",
       "    <tr style=\"text-align: right;\">\n",
       "      <th></th>\n",
       "      <th>EAP</th>\n",
       "      <th>HPL</th>\n",
       "      <th>MWS</th>\n",
       "    </tr>\n",
       "  </thead>\n",
       "  <tbody>\n",
       "    <tr>\n",
       "      <th>small (&lt;5)</th>\n",
       "      <td>4175.000000</td>\n",
       "      <td>3571.000000</td>\n",
       "      <td>3624.00000</td>\n",
       "    </tr>\n",
       "    <tr>\n",
       "      <th>med (5-9)</th>\n",
       "      <td>3360.000000</td>\n",
       "      <td>2891.000000</td>\n",
       "      <td>3009.00000</td>\n",
       "    </tr>\n",
       "    <tr>\n",
       "      <th>large (10-14)</th>\n",
       "      <td>4233.000000</td>\n",
       "      <td>3777.000000</td>\n",
       "      <td>3749.00000</td>\n",
       "    </tr>\n",
       "    <tr>\n",
       "      <th>xlarge (14+)</th>\n",
       "      <td>2874.000000</td>\n",
       "      <td>2674.000000</td>\n",
       "      <td>2703.00000</td>\n",
       "    </tr>\n",
       "    <tr>\n",
       "      <th>avg length</th>\n",
       "      <td>3.990554</td>\n",
       "      <td>4.173425</td>\n",
       "      <td>4.04851</td>\n",
       "    </tr>\n",
       "  </tbody>\n",
       "</table>\n",
       "</div>"
      ],
      "text/plain": [
       "                       EAP          HPL         MWS\n",
       "small (<5)     4175.000000  3571.000000  3624.00000\n",
       "med (5-9)      3360.000000  2891.000000  3009.00000\n",
       "large (10-14)  4233.000000  3777.000000  3749.00000\n",
       "xlarge (14+)   2874.000000  2674.000000  2703.00000\n",
       "avg length        3.990554     4.173425     4.04851"
      ]
     },
     "execution_count": 96,
     "metadata": {},
     "output_type": "execute_result"
    }
   ],
   "source": [
    "wordlength_df.head()"
   ]
  },
  {
   "cell_type": "code",
   "execution_count": 97,
   "metadata": {},
   "outputs": [
    {
     "data": {
      "text/html": [
       "<div>\n",
       "<style>\n",
       "    .dataframe thead tr:only-child th {\n",
       "        text-align: right;\n",
       "    }\n",
       "\n",
       "    .dataframe thead th {\n",
       "        text-align: left;\n",
       "    }\n",
       "\n",
       "    .dataframe tbody tr th {\n",
       "        vertical-align: top;\n",
       "    }\n",
       "</style>\n",
       "<table border=\"1\" class=\"dataframe\">\n",
       "  <thead>\n",
       "    <tr style=\"text-align: right;\">\n",
       "      <th></th>\n",
       "      <th>avg length</th>\n",
       "    </tr>\n",
       "  </thead>\n",
       "  <tbody>\n",
       "    <tr>\n",
       "      <th>EAP</th>\n",
       "      <td>3.990554</td>\n",
       "    </tr>\n",
       "    <tr>\n",
       "      <th>HPL</th>\n",
       "      <td>4.173425</td>\n",
       "    </tr>\n",
       "    <tr>\n",
       "      <th>MWS</th>\n",
       "      <td>4.048510</td>\n",
       "    </tr>\n",
       "  </tbody>\n",
       "</table>\n",
       "</div>"
      ],
      "text/plain": [
       "     avg length\n",
       "EAP    3.990554\n",
       "HPL    4.173425\n",
       "MWS    4.048510"
      ]
     },
     "execution_count": 97,
     "metadata": {},
     "output_type": "execute_result"
    }
   ],
   "source": [
    "# slicing the 'avg length' row from the avg_len_df\n",
    "avg_len_df = wordlength_df.iloc[4,:]\n",
    "avg_len_df = pd.DataFrame(avg_len_df)\n",
    "avg_len_df"
   ]
  },
  {
   "cell_type": "code",
   "execution_count": 98,
   "metadata": {},
   "outputs": [
    {
     "data": {
      "text/html": [
       "<div>\n",
       "<style>\n",
       "    .dataframe thead tr:only-child th {\n",
       "        text-align: right;\n",
       "    }\n",
       "\n",
       "    .dataframe thead th {\n",
       "        text-align: left;\n",
       "    }\n",
       "\n",
       "    .dataframe tbody tr th {\n",
       "        vertical-align: top;\n",
       "    }\n",
       "</style>\n",
       "<table border=\"1\" class=\"dataframe\">\n",
       "  <thead>\n",
       "    <tr style=\"text-align: right;\">\n",
       "      <th></th>\n",
       "      <th>std</th>\n",
       "    </tr>\n",
       "  </thead>\n",
       "  <tbody>\n",
       "    <tr>\n",
       "      <th>EAP</th>\n",
       "      <td>2.628756</td>\n",
       "    </tr>\n",
       "    <tr>\n",
       "      <th>HPL</th>\n",
       "      <td>2.553050</td>\n",
       "    </tr>\n",
       "    <tr>\n",
       "      <th>MWS</th>\n",
       "      <td>2.534958</td>\n",
       "    </tr>\n",
       "  </tbody>\n",
       "</table>\n",
       "</div>"
      ],
      "text/plain": [
       "          std\n",
       "EAP  2.628756\n",
       "HPL  2.553050\n",
       "MWS  2.534958"
      ]
     },
     "execution_count": 98,
     "metadata": {},
     "output_type": "execute_result"
    }
   ],
   "source": [
    "# slicing the 'std' row from the std_wordlength_df\n",
    "std_df = std_wordlength_df.iloc[4,:]\n",
    "std_df = pd.DataFrame(std_df)\n",
    "std_df"
   ]
  },
  {
   "cell_type": "code",
   "execution_count": 99,
   "metadata": {},
   "outputs": [
    {
     "data": {
      "image/png": "[encoded data removed]",
      "text/plain": [
       "<matplotlib.figure.Figure at 0x2cb7b0fdac8>"
      ]
     },
     "metadata": {},
     "output_type": "display_data"
    }
   ],
   "source": [
    "# creating the plots\n",
    "y_axis = avg_len_df['avg length']\n",
    "x_axis = np.arange(0,len(y_axis),1)\n",
    "\n",
    "# setting tick positions and labels\n",
    "plt.xticks(x_axis,[\"EAP\",\"HPL\",\"MWS\"])\n",
    "colors=['red','blue','purple']\n",
    "\n",
    "plot = plt.bar(x_axis,y_axis,yerr=std_df['std'],color=colors,align='center',alpha=0.5)\n",
    "plt.title(\"Avg Word Length / Author\")\n",
    "plt.ylabel(\"avg word length\")\n",
    "plt.show()"
   ]
  },
  {
   "cell_type": "code",
   "execution_count": 100,
   "metadata": {},
   "outputs": [
    {
     "data": {
      "image/png": "[encoded data removed]",
      "text/plain": [
       "<matplotlib.figure.Figure at 0x2cb7b103eb8>"
      ]
     },
     "metadata": {},
     "output_type": "display_data"
    }
   ],
   "source": [
    "# plotting the words by category for each author with std error bars\n",
    "wordlength_df = wordlength_df.drop('avg length')\n",
    "wordlength_df.plot(kind='bar',title = 'Total Words / Author',\n",
    "                    legend=True , yerr= std_wordlength_df,rot=0, figsize=(10, 5))\n",
    "plt.ylabel('Total no of Words')\n",
    "plt.show()"
   ]
  },
  {
   "cell_type": "code",
   "execution_count": null,
   "metadata": {
    "collapsed": true
   },
   "outputs": [],
   "source": []
  }
 ],
 "metadata": {
  "kernelspec": {
   "display_name": "Python 3",
   "language": "python",
   "name": "python3"
  },
  "language_info": {
   "codemirror_mode": {
    "name": "ipython",
    "version": 3
   },
   "file_extension": ".py",
   "mimetype": "text/x-python",
   "name": "python",
   "nbconvert_exporter": "python",
   "pygments_lexer": "ipython3",
   "version": "3.6.2"
  }
 },
 "nbformat": 4,
 "nbformat_minor": 2
}
