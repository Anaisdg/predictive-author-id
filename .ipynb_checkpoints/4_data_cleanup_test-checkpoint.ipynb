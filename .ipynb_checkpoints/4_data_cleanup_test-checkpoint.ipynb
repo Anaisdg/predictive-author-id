{
 "cells": [
  {
   "cell_type": "code",
   "execution_count": 1,
   "metadata": {
    "collapsed": true
   },
   "outputs": [],
   "source": [
    "import pandas as pd # dataframes"
   ]
  },
  {
   "cell_type": "code",
   "execution_count": 2,
   "metadata": {},
   "outputs": [
    {
     "data": {
      "text/html": [
       "<div>\n",
       "<style>\n",
       "    .dataframe thead tr:only-child th {\n",
       "        text-align: right;\n",
       "    }\n",
       "\n",
       "    .dataframe thead th {\n",
       "        text-align: left;\n",
       "    }\n",
       "\n",
       "    .dataframe tbody tr th {\n",
       "        vertical-align: top;\n",
       "    }\n",
       "</style>\n",
       "<table border=\"1\" class=\"dataframe\">\n",
       "  <thead>\n",
       "    <tr style=\"text-align: right;\">\n",
       "      <th></th>\n",
       "      <th>id</th>\n",
       "      <th>text</th>\n",
       "      <th>author</th>\n",
       "    </tr>\n",
       "  </thead>\n",
       "  <tbody>\n",
       "    <tr>\n",
       "      <th>0</th>\n",
       "      <td>id02310</td>\n",
       "      <td>Still, as I urged our leaving Ireland with suc...</td>\n",
       "      <td>MWS</td>\n",
       "    </tr>\n",
       "    <tr>\n",
       "      <th>1</th>\n",
       "      <td>id24541</td>\n",
       "      <td>If a fire wanted fanning, it could readily be ...</td>\n",
       "      <td>EAP</td>\n",
       "    </tr>\n",
       "    <tr>\n",
       "      <th>2</th>\n",
       "      <td>id00134</td>\n",
       "      <td>And when they had broken down the frail door t...</td>\n",
       "      <td>HPL</td>\n",
       "    </tr>\n",
       "    <tr>\n",
       "      <th>3</th>\n",
       "      <td>id27757</td>\n",
       "      <td>While I was thinking how I should possibly man...</td>\n",
       "      <td>HPL</td>\n",
       "    </tr>\n",
       "    <tr>\n",
       "      <th>4</th>\n",
       "      <td>id04081</td>\n",
       "      <td>I am not sure to what limit his knowledge may ...</td>\n",
       "      <td>EAP</td>\n",
       "    </tr>\n",
       "  </tbody>\n",
       "</table>\n",
       "</div>"
      ],
      "text/plain": [
       "        id                                               text author\n",
       "0  id02310  Still, as I urged our leaving Ireland with suc...    MWS\n",
       "1  id24541  If a fire wanted fanning, it could readily be ...    EAP\n",
       "2  id00134  And when they had broken down the frail door t...    HPL\n",
       "3  id27757  While I was thinking how I should possibly man...    HPL\n",
       "4  id04081  I am not sure to what limit his knowledge may ...    EAP"
      ]
     },
     "execution_count": 2,
     "metadata": {},
     "output_type": "execute_result"
    }
   ],
   "source": [
    "### Read our train data into a dataframe\n",
    "texts = pd.read_csv(\"Data_Output/test_with_author.csv\", encoding = 'latin-1')\n",
    "\n",
    "# look at the first few rows of texts\n",
    "texts.head()"
   ]
  },
  {
   "cell_type": "code",
   "execution_count": 3,
   "metadata": {},
   "outputs": [
    {
     "name": "stdout",
     "output_type": "stream",
     "text": [
      "3150\n",
      "2440\n",
      "2802\n"
     ]
    }
   ],
   "source": [
    "# split the data by author\n",
    "byAuthor = texts.groupby(\"author\")\n",
    "\n",
    "# how many sentences are from each author?\n",
    "for name, group in byAuthor:\n",
    "        print(len(group['text']))"
   ]
  },
  {
   "cell_type": "code",
   "execution_count": 4,
   "metadata": {},
   "outputs": [
    {
     "data": {
      "text/html": [
       "<div>\n",
       "<style>\n",
       "    .dataframe thead tr:only-child th {\n",
       "        text-align: right;\n",
       "    }\n",
       "\n",
       "    .dataframe thead th {\n",
       "        text-align: left;\n",
       "    }\n",
       "\n",
       "    .dataframe tbody tr th {\n",
       "        vertical-align: top;\n",
       "    }\n",
       "</style>\n",
       "<table border=\"1\" class=\"dataframe\">\n",
       "  <thead>\n",
       "    <tr style=\"text-align: right;\">\n",
       "      <th></th>\n",
       "      <th>id</th>\n",
       "      <th>text</th>\n",
       "      <th>author</th>\n",
       "    </tr>\n",
       "  </thead>\n",
       "  <tbody>\n",
       "    <tr>\n",
       "      <th>0</th>\n",
       "      <td>id26184</td>\n",
       "      <td>An intimate and anxious examination of his car...</td>\n",
       "      <td>EAP</td>\n",
       "    </tr>\n",
       "    <tr>\n",
       "      <th>1</th>\n",
       "      <td>id26648</td>\n",
       "      <td>It's getting late, and, besides, you remember ...</td>\n",
       "      <td>EAP</td>\n",
       "    </tr>\n",
       "    <tr>\n",
       "      <th>2</th>\n",
       "      <td>id22884</td>\n",
       "      <td>This functionary, however, has been thoroughly...</td>\n",
       "      <td>EAP</td>\n",
       "    </tr>\n",
       "    <tr>\n",
       "      <th>3</th>\n",
       "      <td>id10873</td>\n",
       "      <td>The question might then have been asked \"Why d...</td>\n",
       "      <td>EAP</td>\n",
       "    </tr>\n",
       "    <tr>\n",
       "      <th>4</th>\n",
       "      <td>id18590</td>\n",
       "      <td>These things are observed during the canoe's g...</td>\n",
       "      <td>EAP</td>\n",
       "    </tr>\n",
       "  </tbody>\n",
       "</table>\n",
       "</div>"
      ],
      "text/plain": [
       "        id                                               text author\n",
       "0  id26184  An intimate and anxious examination of his car...    EAP\n",
       "1  id26648  It's getting late, and, besides, you remember ...    EAP\n",
       "2  id22884  This functionary, however, has been thoroughly...    EAP\n",
       "3  id10873  The question might then have been asked \"Why d...    EAP\n",
       "4  id18590  These things are observed during the canoe's g...    EAP"
      ]
     },
     "execution_count": 4,
     "metadata": {},
     "output_type": "execute_result"
    }
   ],
   "source": [
    "# create df for each author\n",
    "eap = texts.loc[texts['author'] == 'EAP']\n",
    "hpl = texts.loc[texts['author'] == 'HPL']\n",
    "mws = texts.loc[texts['author'] == 'MWS']\n",
    "\n",
    "# randomly subset the larger author dfs so that each df has the same number of sentences\n",
    "eap_s = eap.sample(n=2440)\n",
    "mws_s = mws.sample(n=2440)\n",
    "\n",
    "# combine subsetted dfs into single df\n",
    "texts_s = pd.concat([eap_s, hpl, mws_s])\n",
    "\n",
    "texts_s = texts_s.reset_index()\n",
    "\n",
    "texts_s = texts_s.drop('index', axis = 1)\n",
    "texts_s.head()"
   ]
  },
  {
   "cell_type": "code",
   "execution_count": 5,
   "metadata": {
    "collapsed": true
   },
   "outputs": [],
   "source": [
    "texts_s.to_csv('Data_Output/equal_length_test.csv', index = False)"
   ]
  }
 ],
 "metadata": {
  "kernelspec": {
   "display_name": "Python 3",
   "language": "python",
   "name": "python3"
  },
  "language_info": {
   "codemirror_mode": {
    "name": "ipython",
    "version": 3
   },
   "file_extension": ".py",
   "mimetype": "text/x-python",
   "name": "python",
   "nbconvert_exporter": "python",
   "pygments_lexer": "ipython3",
   "version": "3.6.2"
  }
 },
 "nbformat": 4,
 "nbformat_minor": 2
}
